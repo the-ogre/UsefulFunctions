{
 "cells": [
  {
   "cell_type": "code",
   "execution_count": 2,
   "metadata": {},
   "outputs": [
    {
     "name": "stdout",
     "output_type": "stream",
     "text": [
      "The MSE in training is: 0.0\n",
      "The MSE in testing is 4976.797752808989\n"
     ]
    }
   ],
   "source": [
    "import numpy as np\n",
    "from sklearn.datasets import load_diabetes\n",
    "from sklearn.model_selection import train_test_split\n",
    "from sklearn.tree import DecisionTreeRegressor\n",
    "from sklearn.metrics import mean_squared_error\n",
    "\n",
    "# Load the diabetes dataset (for demonstration purposes)\n",
    "dataset = load_diabetes()\n",
    "X, y = dataset.data, dataset.target\n",
    "\n",
    "# Split the data into training and testing sets\n",
    "X_train, X_test, y_train, y_test = train_test_split(X, y, test_size=0.2, random_state=42)\n",
    "\n",
    "# Build a full-sized decision tree\n",
    "tree = DecisionTreeRegressor(random_state=42)\n",
    "tree.fit(X_train, y_train)\n",
    "\n",
    "# Calculate the mean squared error (MSE) on the testing set\n",
    "y_pred = tree.predict(X_test)\n",
    "y_hat=tree.predict(X_train)\n",
    "mse_test = mean_squared_error(y_test, y_pred)\n",
    "mse_train = mean_squared_error(y_train, y_hat)\n",
    "\n",
    "print(f'The MSE in training is: {mse_train}')\n",
    "print(f'The MSE in testing is {mse_test}')"
   ]
  },
  {
   "attachments": {},
   "cell_type": "markdown",
   "metadata": {},
   "source": [
    "Clear case of overfitting. Now we will employ cost-complexity pruning."
   ]
  },
  {
   "cell_type": "code",
   "execution_count": 3,
   "metadata": {},
   "outputs": [],
   "source": [
    "#perform cost complexity pruning\n",
    "ccp_alphas=tree.cost_complexity_pruning_path(\n",
    "    X_train,\n",
    "    y_train,\n",
    ")['ccp_alphas']"
   ]
  },
  {
   "cell_type": "code",
   "execution_count": 8,
   "metadata": {},
   "outputs": [],
   "source": [
    "# Create a sequence of pruned trees for different values of alpha\n",
    "pruned_trees=[]\n",
    "for alpha in ccp_alphas:\n",
    "    pruned_tree=DecisionTreeRegressor(ccp_alpha=alpha,random_state=42)\n",
    "    pruned_tree.fit(X_train,y_train)\n",
    "    pruned_trees.append(pruned_tree)"
   ]
  },
  {
   "cell_type": "code",
   "execution_count": 9,
   "metadata": {},
   "outputs": [],
   "source": [
    "# Evaluate the pruned trees \n",
    "# and select the one with the lowest MSE on the test set\n",
    "\n",
    "best_mse=float('inf')\n",
    "best_tree=None\n",
    "\n",
    "for tree in pruned_trees:\n",
    "    y_pred=tree.predict(X_test)\n",
    "    mse=mean_squared_error(y_test,y_pred)\n",
    "    if mse<best_mse:\n",
    "        best_mse=mse\n",
    "        best_tree=tree"
   ]
  },
  {
   "cell_type": "code",
   "execution_count": 10,
   "metadata": {},
   "outputs": [
    {
     "name": "stdout",
     "output_type": "stream",
     "text": [
      "Selected Pruned Tree:\n",
      "DecisionTreeRegressor(ccp_alpha=80.57696804297389, random_state=42)\n",
      "Alpha: 80.57696804297389\n"
     ]
    }
   ],
   "source": [
    "# Print the selected pruned tree and its alpha value\n",
    "print(\"Selected Pruned Tree:\")\n",
    "print(best_tree)\n",
    "print(\"Alpha:\", best_tree.ccp_alpha)"
   ]
  },
  {
   "cell_type": "code",
   "execution_count": 11,
   "metadata": {},
   "outputs": [
    {
     "name": "stdout",
     "output_type": "stream",
     "text": [
      "The MSE in training is: 2873.15185497862\n",
      "The MSE in testing is 2907.177070734343\n"
     ]
    }
   ],
   "source": [
    "# Use the best tree to make the prediction\n",
    "\n",
    "# Build a full-sized decision tree\n",
    "tree_selected = DecisionTreeRegressor(ccp_alpha=80.57696804297389, random_state=42)\n",
    "tree_selected.fit(X_train, y_train)\n",
    "\n",
    "# Calculate the mean squared error (MSE) on the testing set\n",
    "y_pred = tree_selected.predict(X_test)\n",
    "y_hat=tree_selected.predict(X_train)\n",
    "mse_test = mean_squared_error(y_test, y_pred)\n",
    "mse_train = mean_squared_error(y_train, y_hat)\n",
    "\n",
    "print(f'The MSE in training is: {mse_train}')\n",
    "print(f'The MSE in testing is {mse_test}')"
   ]
  },
  {
   "attachments": {},
   "cell_type": "markdown",
   "metadata": {},
   "source": [
    "- Now we can see comparable MSE's. These values are large, so we can use random forest.\n",
    "- Now, I will check if I get the same value with Hyperparameter Optimization"
   ]
  },
  {
   "cell_type": "code",
   "execution_count": null,
   "metadata": {},
   "outputs": [],
   "source": [
    "import numpy as np\n",
    "from sklearn.datasets import load_diabetes\n",
    "from sklearn.model_selection import train_test_split\n",
    "from sklearn.tree import DecisionTreeRegressor\n",
    "from sklearn.metrics import mean_squared_error\n",
    "from skopt import BayesSearchCV\n",
    "\n",
    "# Load the diabetes dataset (for demonstration purposes)\n",
    "dataset = load_diabetes()\n",
    "X, y = dataset.data, dataset.target\n",
    "\n",
    "# Split the data into training and testing sets\n",
    "X_train, X_test, y_train, y_test = train_test_split(X, y, test_size=0.2, random_state=42)\n",
    "\n",
    "# Define the hyperparameter search space for the decision tree\n",
    "param_space = {\n",
    "    'ccp_alpha': (0.0, 0.1, 'uniform')\n",
    "}\n",
    "\n",
    "# Perform hyperparameter tuning and cross-validation using Bayesian optimization\n",
    "optimal_tree = BayesSearchCV(\n",
    "    DecisionTreeRegressor(random_state=42),\n",
    "    param_space,\n",
    "    n_iter=50,  # number of iterations for optimization\n",
    "    cv=5,  # number of cross-validation folds\n",
    "    n_jobs=-1  # number of parallel jobs (-1 means using all available processors)\n",
    ")\n",
    "optimal_tree.fit(X_train, y_train)\n",
    "\n",
    "# Print the best hyperparameters and corresponding MSE on the testing set\n",
    "print(\"Best Hyperparameters:\", optimal_tree.best_params_)\n",
    "y_pred = optimal_tree.predict(X_test)\n",
    "mse = mean_squared_error(y_test, y_pred)\n",
    "print(\"MSE on Testing Set:\", mse)\n"
   ]
  },
  {
   "cell_type": "code",
   "execution_count": 12,
   "metadata": {},
   "outputs": [],
   "source": [
    "from skopt import BayesSearchCV"
   ]
  },
  {
   "cell_type": "code",
   "execution_count": 15,
   "metadata": {},
   "outputs": [],
   "source": [
    "# Define the hyperparameter search space for the decision tree\n",
    "param_space = {\n",
    "    'ccp_alpha': (0.0, 100, 'uniform')\n",
    "}\n",
    "\n",
    "# Perform hyperparameter tuning and cross-validation using Bayesian optimization\n",
    "optimal_tree = BayesSearchCV(\n",
    "    DecisionTreeRegressor(random_state=42),\n",
    "    param_space,\n",
    "    scoring='neg_mean_squared_error',\n",
    "    n_iter=100,  # number of iterations for optimization\n",
    "    cv=5,  # number of cross-validation folds\n",
    "    n_jobs=-1  # number of parallel jobs (-1 means using all available processors)\n",
    ")"
   ]
  },
  {
   "cell_type": "code",
   "execution_count": 17,
   "metadata": {},
   "outputs": [
    {
     "name": "stderr",
     "output_type": "stream",
     "text": [
      " 10%|█         | 10/100 [00:02<00:13,  6.85it/s]/home/ogre/miniconda3/envs/py39/lib/python3.9/site-packages/skopt/optimizer/optimizer.py:449: UserWarning: The objective has been evaluated at this point before.\n",
      "  warnings.warn(\"The objective has been evaluated \"\n",
      " 12%|█▏        | 12/100 [00:02<00:17,  5.12it/s]/home/ogre/miniconda3/envs/py39/lib/python3.9/site-packages/skopt/optimizer/optimizer.py:449: UserWarning: The objective has been evaluated at this point before.\n",
      "  warnings.warn(\"The objective has been evaluated \"\n",
      " 13%|█▎        | 13/100 [00:03<00:20,  4.33it/s]/home/ogre/miniconda3/envs/py39/lib/python3.9/site-packages/skopt/optimizer/optimizer.py:449: UserWarning: The objective has been evaluated at this point before.\n",
      "  warnings.warn(\"The objective has been evaluated \"\n",
      " 15%|█▌        | 15/100 [00:04<00:29,  2.89it/s]/home/ogre/miniconda3/envs/py39/lib/python3.9/site-packages/skopt/optimizer/optimizer.py:449: UserWarning: The objective has been evaluated at this point before.\n",
      "  warnings.warn(\"The objective has been evaluated \"\n",
      " 17%|█▋        | 17/100 [00:05<00:36,  2.28it/s]/home/ogre/miniconda3/envs/py39/lib/python3.9/site-packages/skopt/optimizer/optimizer.py:449: UserWarning: The objective has been evaluated at this point before.\n",
      "  warnings.warn(\"The objective has been evaluated \"\n",
      " 19%|█▉        | 19/100 [00:06<00:41,  1.97it/s]/home/ogre/miniconda3/envs/py39/lib/python3.9/site-packages/skopt/optimizer/optimizer.py:449: UserWarning: The objective has been evaluated at this point before.\n",
      "  warnings.warn(\"The objective has been evaluated \"\n",
      " 20%|██        | 20/100 [00:07<00:43,  1.85it/s]/home/ogre/miniconda3/envs/py39/lib/python3.9/site-packages/skopt/optimizer/optimizer.py:449: UserWarning: The objective has been evaluated at this point before.\n",
      "  warnings.warn(\"The objective has been evaluated \"\n",
      " 21%|██        | 21/100 [00:08<00:45,  1.73it/s]/home/ogre/miniconda3/envs/py39/lib/python3.9/site-packages/skopt/optimizer/optimizer.py:449: UserWarning: The objective has been evaluated at this point before.\n",
      "  warnings.warn(\"The objective has been evaluated \"\n",
      " 22%|██▏       | 22/100 [00:08<00:45,  1.71it/s]/home/ogre/miniconda3/envs/py39/lib/python3.9/site-packages/skopt/optimizer/optimizer.py:449: UserWarning: The objective has been evaluated at this point before.\n",
      "  warnings.warn(\"The objective has been evaluated \"\n",
      " 23%|██▎       | 23/100 [00:09<00:51,  1.51it/s]/home/ogre/miniconda3/envs/py39/lib/python3.9/site-packages/skopt/optimizer/optimizer.py:449: UserWarning: The objective has been evaluated at this point before.\n",
      "  warnings.warn(\"The objective has been evaluated \"\n",
      " 24%|██▍       | 24/100 [00:10<00:59,  1.28it/s]/home/ogre/miniconda3/envs/py39/lib/python3.9/site-packages/skopt/optimizer/optimizer.py:449: UserWarning: The objective has been evaluated at this point before.\n",
      "  warnings.warn(\"The objective has been evaluated \"\n",
      " 25%|██▌       | 25/100 [00:12<01:16,  1.03s/it]/home/ogre/miniconda3/envs/py39/lib/python3.9/site-packages/skopt/optimizer/optimizer.py:449: UserWarning: The objective has been evaluated at this point before.\n",
      "  warnings.warn(\"The objective has been evaluated \"\n",
      " 26%|██▌       | 26/100 [00:14<01:41,  1.37s/it]/home/ogre/miniconda3/envs/py39/lib/python3.9/site-packages/skopt/optimizer/optimizer.py:449: UserWarning: The objective has been evaluated at this point before.\n",
      "  warnings.warn(\"The objective has been evaluated \"\n",
      " 27%|██▋       | 27/100 [00:16<01:48,  1.49s/it]/home/ogre/miniconda3/envs/py39/lib/python3.9/site-packages/skopt/optimizer/optimizer.py:449: UserWarning: The objective has been evaluated at this point before.\n",
      "  warnings.warn(\"The objective has been evaluated \"\n",
      " 28%|██▊       | 28/100 [00:18<01:58,  1.65s/it]/home/ogre/miniconda3/envs/py39/lib/python3.9/site-packages/skopt/optimizer/optimizer.py:449: UserWarning: The objective has been evaluated at this point before.\n",
      "  warnings.warn(\"The objective has been evaluated \"\n",
      " 29%|██▉       | 29/100 [00:20<02:01,  1.72s/it]/home/ogre/miniconda3/envs/py39/lib/python3.9/site-packages/skopt/optimizer/optimizer.py:449: UserWarning: The objective has been evaluated at this point before.\n",
      "  warnings.warn(\"The objective has been evaluated \"\n",
      " 30%|███       | 30/100 [00:21<01:59,  1.70s/it]/home/ogre/miniconda3/envs/py39/lib/python3.9/site-packages/skopt/optimizer/optimizer.py:449: UserWarning: The objective has been evaluated at this point before.\n",
      "  warnings.warn(\"The objective has been evaluated \"\n",
      " 31%|███       | 31/100 [00:23<02:01,  1.76s/it]/home/ogre/miniconda3/envs/py39/lib/python3.9/site-packages/skopt/optimizer/optimizer.py:449: UserWarning: The objective has been evaluated at this point before.\n",
      "  warnings.warn(\"The objective has been evaluated \"\n",
      " 32%|███▏      | 32/100 [00:25<01:57,  1.73s/it]/home/ogre/miniconda3/envs/py39/lib/python3.9/site-packages/skopt/optimizer/optimizer.py:449: UserWarning: The objective has been evaluated at this point before.\n",
      "  warnings.warn(\"The objective has been evaluated \"\n",
      " 33%|███▎      | 33/100 [00:27<01:55,  1.73s/it]/home/ogre/miniconda3/envs/py39/lib/python3.9/site-packages/skopt/optimizer/optimizer.py:449: UserWarning: The objective has been evaluated at this point before.\n",
      "  warnings.warn(\"The objective has been evaluated \"\n",
      " 34%|███▍      | 34/100 [00:29<02:00,  1.83s/it]/home/ogre/miniconda3/envs/py39/lib/python3.9/site-packages/skopt/optimizer/optimizer.py:449: UserWarning: The objective has been evaluated at this point before.\n",
      "  warnings.warn(\"The objective has been evaluated \"\n",
      " 35%|███▌      | 35/100 [00:31<02:02,  1.89s/it]/home/ogre/miniconda3/envs/py39/lib/python3.9/site-packages/skopt/optimizer/optimizer.py:449: UserWarning: The objective has been evaluated at this point before.\n",
      "  warnings.warn(\"The objective has been evaluated \"\n",
      " 36%|███▌      | 36/100 [00:33<02:08,  2.00s/it]/home/ogre/miniconda3/envs/py39/lib/python3.9/site-packages/skopt/optimizer/optimizer.py:449: UserWarning: The objective has been evaluated at this point before.\n",
      "  warnings.warn(\"The objective has been evaluated \"\n",
      " 37%|███▋      | 37/100 [00:35<02:07,  2.03s/it]/home/ogre/miniconda3/envs/py39/lib/python3.9/site-packages/skopt/optimizer/optimizer.py:449: UserWarning: The objective has been evaluated at this point before.\n",
      "  warnings.warn(\"The objective has been evaluated \"\n",
      " 38%|███▊      | 38/100 [00:38<02:19,  2.25s/it]/home/ogre/miniconda3/envs/py39/lib/python3.9/site-packages/skopt/optimizer/optimizer.py:449: UserWarning: The objective has been evaluated at this point before.\n",
      "  warnings.warn(\"The objective has been evaluated \"\n",
      " 39%|███▉      | 39/100 [00:40<02:18,  2.27s/it]/home/ogre/miniconda3/envs/py39/lib/python3.9/site-packages/skopt/optimizer/optimizer.py:449: UserWarning: The objective has been evaluated at this point before.\n",
      "  warnings.warn(\"The objective has been evaluated \"\n",
      " 40%|████      | 40/100 [00:43<02:23,  2.39s/it]/home/ogre/miniconda3/envs/py39/lib/python3.9/site-packages/skopt/optimizer/optimizer.py:449: UserWarning: The objective has been evaluated at this point before.\n",
      "  warnings.warn(\"The objective has been evaluated \"\n",
      " 41%|████      | 41/100 [00:46<02:34,  2.62s/it]/home/ogre/miniconda3/envs/py39/lib/python3.9/site-packages/skopt/optimizer/optimizer.py:449: UserWarning: The objective has been evaluated at this point before.\n",
      "  warnings.warn(\"The objective has been evaluated \"\n",
      " 42%|████▏     | 42/100 [00:49<02:46,  2.88s/it]/home/ogre/miniconda3/envs/py39/lib/python3.9/site-packages/skopt/optimizer/optimizer.py:449: UserWarning: The objective has been evaluated at this point before.\n",
      "  warnings.warn(\"The objective has been evaluated \"\n",
      " 43%|████▎     | 43/100 [00:53<02:49,  2.97s/it]/home/ogre/miniconda3/envs/py39/lib/python3.9/site-packages/skopt/optimizer/optimizer.py:449: UserWarning: The objective has been evaluated at this point before.\n",
      "  warnings.warn(\"The objective has been evaluated \"\n",
      " 44%|████▍     | 44/100 [00:56<02:56,  3.15s/it]/home/ogre/miniconda3/envs/py39/lib/python3.9/site-packages/skopt/optimizer/optimizer.py:449: UserWarning: The objective has been evaluated at this point before.\n",
      "  warnings.warn(\"The objective has been evaluated \"\n",
      " 45%|████▌     | 45/100 [00:59<02:45,  3.00s/it]/home/ogre/miniconda3/envs/py39/lib/python3.9/site-packages/skopt/optimizer/optimizer.py:449: UserWarning: The objective has been evaluated at this point before.\n",
      "  warnings.warn(\"The objective has been evaluated \"\n",
      " 46%|████▌     | 46/100 [01:02<02:40,  2.97s/it]/home/ogre/miniconda3/envs/py39/lib/python3.9/site-packages/skopt/optimizer/optimizer.py:449: UserWarning: The objective has been evaluated at this point before.\n",
      "  warnings.warn(\"The objective has been evaluated \"\n",
      " 47%|████▋     | 47/100 [01:05<02:36,  2.95s/it]/home/ogre/miniconda3/envs/py39/lib/python3.9/site-packages/skopt/optimizer/optimizer.py:449: UserWarning: The objective has been evaluated at this point before.\n",
      "  warnings.warn(\"The objective has been evaluated \"\n",
      " 48%|████▊     | 48/100 [01:07<02:30,  2.90s/it]/home/ogre/miniconda3/envs/py39/lib/python3.9/site-packages/skopt/optimizer/optimizer.py:449: UserWarning: The objective has been evaluated at this point before.\n",
      "  warnings.warn(\"The objective has been evaluated \"\n",
      " 49%|████▉     | 49/100 [01:10<02:28,  2.90s/it]/home/ogre/miniconda3/envs/py39/lib/python3.9/site-packages/skopt/optimizer/optimizer.py:449: UserWarning: The objective has been evaluated at this point before.\n",
      "  warnings.warn(\"The objective has been evaluated \"\n",
      " 50%|█████     | 50/100 [01:13<02:25,  2.91s/it]/home/ogre/miniconda3/envs/py39/lib/python3.9/site-packages/skopt/optimizer/optimizer.py:449: UserWarning: The objective has been evaluated at this point before.\n",
      "  warnings.warn(\"The objective has been evaluated \"\n",
      " 51%|█████     | 51/100 [01:16<02:23,  2.93s/it]/home/ogre/miniconda3/envs/py39/lib/python3.9/site-packages/skopt/optimizer/optimizer.py:449: UserWarning: The objective has been evaluated at this point before.\n",
      "  warnings.warn(\"The objective has been evaluated \"\n",
      " 52%|█████▏    | 52/100 [01:20<02:25,  3.03s/it]/home/ogre/miniconda3/envs/py39/lib/python3.9/site-packages/skopt/optimizer/optimizer.py:449: UserWarning: The objective has been evaluated at this point before.\n",
      "  warnings.warn(\"The objective has been evaluated \"\n",
      " 53%|█████▎    | 53/100 [01:23<02:21,  3.02s/it]/home/ogre/miniconda3/envs/py39/lib/python3.9/site-packages/skopt/optimizer/optimizer.py:449: UserWarning: The objective has been evaluated at this point before.\n",
      "  warnings.warn(\"The objective has been evaluated \"\n",
      " 54%|█████▍    | 54/100 [01:25<02:15,  2.94s/it]/home/ogre/miniconda3/envs/py39/lib/python3.9/site-packages/skopt/optimizer/optimizer.py:449: UserWarning: The objective has been evaluated at this point before.\n",
      "  warnings.warn(\"The objective has been evaluated \"\n",
      " 55%|█████▌    | 55/100 [01:28<02:12,  2.94s/it]/home/ogre/miniconda3/envs/py39/lib/python3.9/site-packages/skopt/optimizer/optimizer.py:449: UserWarning: The objective has been evaluated at this point before.\n",
      "  warnings.warn(\"The objective has been evaluated \"\n",
      " 56%|█████▌    | 56/100 [01:31<02:11,  3.00s/it]/home/ogre/miniconda3/envs/py39/lib/python3.9/site-packages/skopt/optimizer/optimizer.py:449: UserWarning: The objective has been evaluated at this point before.\n",
      "  warnings.warn(\"The objective has been evaluated \"\n",
      " 57%|█████▋    | 57/100 [01:35<02:11,  3.05s/it]/home/ogre/miniconda3/envs/py39/lib/python3.9/site-packages/skopt/optimizer/optimizer.py:449: UserWarning: The objective has been evaluated at this point before.\n",
      "  warnings.warn(\"The objective has been evaluated \"\n",
      " 58%|█████▊    | 58/100 [01:38<02:08,  3.07s/it]/home/ogre/miniconda3/envs/py39/lib/python3.9/site-packages/skopt/optimizer/optimizer.py:449: UserWarning: The objective has been evaluated at this point before.\n",
      "  warnings.warn(\"The objective has been evaluated \"\n",
      " 59%|█████▉    | 59/100 [01:40<02:02,  2.98s/it]/home/ogre/miniconda3/envs/py39/lib/python3.9/site-packages/skopt/optimizer/optimizer.py:449: UserWarning: The objective has been evaluated at this point before.\n",
      "  warnings.warn(\"The objective has been evaluated \"\n",
      " 60%|██████    | 60/100 [01:44<02:01,  3.03s/it]/home/ogre/miniconda3/envs/py39/lib/python3.9/site-packages/skopt/optimizer/optimizer.py:449: UserWarning: The objective has been evaluated at this point before.\n",
      "  warnings.warn(\"The objective has been evaluated \"\n",
      " 61%|██████    | 61/100 [01:47<02:02,  3.14s/it]/home/ogre/miniconda3/envs/py39/lib/python3.9/site-packages/skopt/optimizer/optimizer.py:449: UserWarning: The objective has been evaluated at this point before.\n",
      "  warnings.warn(\"The objective has been evaluated \"\n",
      " 62%|██████▏   | 62/100 [01:51<02:07,  3.35s/it]/home/ogre/miniconda3/envs/py39/lib/python3.9/site-packages/skopt/optimizer/optimizer.py:449: UserWarning: The objective has been evaluated at this point before.\n",
      "  warnings.warn(\"The objective has been evaluated \"\n",
      " 63%|██████▎   | 63/100 [01:54<02:07,  3.44s/it]/home/ogre/miniconda3/envs/py39/lib/python3.9/site-packages/skopt/optimizer/optimizer.py:449: UserWarning: The objective has been evaluated at this point before.\n",
      "  warnings.warn(\"The objective has been evaluated \"\n",
      " 64%|██████▍   | 64/100 [01:59<02:12,  3.69s/it]/home/ogre/miniconda3/envs/py39/lib/python3.9/site-packages/skopt/optimizer/optimizer.py:449: UserWarning: The objective has been evaluated at this point before.\n",
      "  warnings.warn(\"The objective has been evaluated \"\n",
      " 65%|██████▌   | 65/100 [02:04<02:22,  4.08s/it]/home/ogre/miniconda3/envs/py39/lib/python3.9/site-packages/skopt/optimizer/optimizer.py:449: UserWarning: The objective has been evaluated at this point before.\n",
      "  warnings.warn(\"The objective has been evaluated \"\n",
      " 66%|██████▌   | 66/100 [02:07<02:13,  3.93s/it]/home/ogre/miniconda3/envs/py39/lib/python3.9/site-packages/skopt/optimizer/optimizer.py:449: UserWarning: The objective has been evaluated at this point before.\n",
      "  warnings.warn(\"The objective has been evaluated \"\n",
      " 67%|██████▋   | 67/100 [02:13<02:22,  4.31s/it]/home/ogre/miniconda3/envs/py39/lib/python3.9/site-packages/skopt/optimizer/optimizer.py:449: UserWarning: The objective has been evaluated at this point before.\n",
      "  warnings.warn(\"The objective has been evaluated \"\n",
      " 68%|██████▊   | 68/100 [02:17<02:21,  4.42s/it]/home/ogre/miniconda3/envs/py39/lib/python3.9/site-packages/skopt/optimizer/optimizer.py:449: UserWarning: The objective has been evaluated at this point before.\n",
      "  warnings.warn(\"The objective has been evaluated \"\n",
      " 69%|██████▉   | 69/100 [02:21<02:14,  4.33s/it]/home/ogre/miniconda3/envs/py39/lib/python3.9/site-packages/skopt/optimizer/optimizer.py:449: UserWarning: The objective has been evaluated at this point before.\n",
      "  warnings.warn(\"The objective has been evaluated \"\n",
      " 70%|███████   | 70/100 [02:26<02:17,  4.59s/it]/home/ogre/miniconda3/envs/py39/lib/python3.9/site-packages/skopt/optimizer/optimizer.py:449: UserWarning: The objective has been evaluated at this point before.\n",
      "  warnings.warn(\"The objective has been evaluated \"\n",
      " 71%|███████   | 71/100 [02:32<02:20,  4.84s/it]/home/ogre/miniconda3/envs/py39/lib/python3.9/site-packages/skopt/optimizer/optimizer.py:449: UserWarning: The objective has been evaluated at this point before.\n",
      "  warnings.warn(\"The objective has been evaluated \"\n",
      " 72%|███████▏  | 72/100 [02:36<02:11,  4.71s/it]/home/ogre/miniconda3/envs/py39/lib/python3.9/site-packages/skopt/optimizer/optimizer.py:449: UserWarning: The objective has been evaluated at this point before.\n",
      "  warnings.warn(\"The objective has been evaluated \"\n",
      " 73%|███████▎  | 73/100 [02:41<02:05,  4.66s/it]/home/ogre/miniconda3/envs/py39/lib/python3.9/site-packages/skopt/optimizer/optimizer.py:449: UserWarning: The objective has been evaluated at this point before.\n",
      "  warnings.warn(\"The objective has been evaluated \"\n",
      " 74%|███████▍  | 74/100 [02:46<02:07,  4.91s/it]/home/ogre/miniconda3/envs/py39/lib/python3.9/site-packages/skopt/optimizer/optimizer.py:449: UserWarning: The objective has been evaluated at this point before.\n",
      "  warnings.warn(\"The objective has been evaluated \"\n",
      " 75%|███████▌  | 75/100 [02:51<02:00,  4.84s/it]/home/ogre/miniconda3/envs/py39/lib/python3.9/site-packages/skopt/optimizer/optimizer.py:449: UserWarning: The objective has been evaluated at this point before.\n",
      "  warnings.warn(\"The objective has been evaluated \"\n",
      " 76%|███████▌  | 76/100 [02:55<01:53,  4.72s/it]/home/ogre/miniconda3/envs/py39/lib/python3.9/site-packages/skopt/optimizer/optimizer.py:449: UserWarning: The objective has been evaluated at this point before.\n",
      "  warnings.warn(\"The objective has been evaluated \"\n",
      " 77%|███████▋  | 77/100 [03:00<01:47,  4.69s/it]/home/ogre/miniconda3/envs/py39/lib/python3.9/site-packages/skopt/optimizer/optimizer.py:449: UserWarning: The objective has been evaluated at this point before.\n",
      "  warnings.warn(\"The objective has been evaluated \"\n",
      " 78%|███████▊  | 78/100 [03:04<01:39,  4.52s/it]/home/ogre/miniconda3/envs/py39/lib/python3.9/site-packages/skopt/optimizer/optimizer.py:449: UserWarning: The objective has been evaluated at this point before.\n",
      "  warnings.warn(\"The objective has been evaluated \"\n",
      " 79%|███████▉  | 79/100 [03:09<01:34,  4.51s/it]/home/ogre/miniconda3/envs/py39/lib/python3.9/site-packages/skopt/optimizer/optimizer.py:449: UserWarning: The objective has been evaluated at this point before.\n",
      "  warnings.warn(\"The objective has been evaluated \"\n",
      " 80%|████████  | 80/100 [03:13<01:31,  4.56s/it]/home/ogre/miniconda3/envs/py39/lib/python3.9/site-packages/skopt/optimizer/optimizer.py:449: UserWarning: The objective has been evaluated at this point before.\n",
      "  warnings.warn(\"The objective has been evaluated \"\n",
      " 81%|████████  | 81/100 [03:19<01:31,  4.82s/it]/home/ogre/miniconda3/envs/py39/lib/python3.9/site-packages/skopt/optimizer/optimizer.py:449: UserWarning: The objective has been evaluated at this point before.\n",
      "  warnings.warn(\"The objective has been evaluated \"\n",
      " 82%|████████▏ | 82/100 [03:23<01:23,  4.63s/it]/home/ogre/miniconda3/envs/py39/lib/python3.9/site-packages/skopt/optimizer/optimizer.py:449: UserWarning: The objective has been evaluated at this point before.\n",
      "  warnings.warn(\"The objective has been evaluated \"\n",
      " 83%|████████▎ | 83/100 [03:27<01:15,  4.42s/it]/home/ogre/miniconda3/envs/py39/lib/python3.9/site-packages/skopt/optimizer/optimizer.py:449: UserWarning: The objective has been evaluated at this point before.\n",
      "  warnings.warn(\"The objective has been evaluated \"\n",
      " 84%|████████▍ | 84/100 [03:33<01:18,  4.88s/it]/home/ogre/miniconda3/envs/py39/lib/python3.9/site-packages/skopt/optimizer/optimizer.py:449: UserWarning: The objective has been evaluated at this point before.\n",
      "  warnings.warn(\"The objective has been evaluated \"\n",
      " 85%|████████▌ | 85/100 [03:39<01:19,  5.27s/it]/home/ogre/miniconda3/envs/py39/lib/python3.9/site-packages/skopt/optimizer/optimizer.py:449: UserWarning: The objective has been evaluated at this point before.\n",
      "  warnings.warn(\"The objective has been evaluated \"\n",
      " 86%|████████▌ | 86/100 [03:44<01:14,  5.30s/it]/home/ogre/miniconda3/envs/py39/lib/python3.9/site-packages/skopt/optimizer/optimizer.py:449: UserWarning: The objective has been evaluated at this point before.\n",
      "  warnings.warn(\"The objective has been evaluated \"\n",
      " 87%|████████▋ | 87/100 [03:50<01:08,  5.25s/it]/home/ogre/miniconda3/envs/py39/lib/python3.9/site-packages/skopt/optimizer/optimizer.py:449: UserWarning: The objective has been evaluated at this point before.\n",
      "  warnings.warn(\"The objective has been evaluated \"\n",
      " 88%|████████▊ | 88/100 [03:54<01:00,  5.05s/it]/home/ogre/miniconda3/envs/py39/lib/python3.9/site-packages/skopt/optimizer/optimizer.py:449: UserWarning: The objective has been evaluated at this point before.\n",
      "  warnings.warn(\"The objective has been evaluated \"\n",
      " 89%|████████▉ | 89/100 [03:59<00:55,  5.02s/it]/home/ogre/miniconda3/envs/py39/lib/python3.9/site-packages/skopt/optimizer/optimizer.py:449: UserWarning: The objective has been evaluated at this point before.\n",
      "  warnings.warn(\"The objective has been evaluated \"\n",
      " 90%|█████████ | 90/100 [04:06<00:55,  5.50s/it]/home/ogre/miniconda3/envs/py39/lib/python3.9/site-packages/skopt/optimizer/optimizer.py:449: UserWarning: The objective has been evaluated at this point before.\n",
      "  warnings.warn(\"The objective has been evaluated \"\n",
      " 91%|█████████ | 91/100 [04:12<00:51,  5.75s/it]/home/ogre/miniconda3/envs/py39/lib/python3.9/site-packages/skopt/optimizer/optimizer.py:449: UserWarning: The objective has been evaluated at this point before.\n",
      "  warnings.warn(\"The objective has been evaluated \"\n",
      " 92%|█████████▏| 92/100 [04:18<00:45,  5.67s/it]/home/ogre/miniconda3/envs/py39/lib/python3.9/site-packages/skopt/optimizer/optimizer.py:449: UserWarning: The objective has been evaluated at this point before.\n",
      "  warnings.warn(\"The objective has been evaluated \"\n",
      " 93%|█████████▎| 93/100 [04:23<00:38,  5.57s/it]/home/ogre/miniconda3/envs/py39/lib/python3.9/site-packages/skopt/optimizer/optimizer.py:449: UserWarning: The objective has been evaluated at this point before.\n",
      "  warnings.warn(\"The objective has been evaluated \"\n",
      " 94%|█████████▍| 94/100 [04:29<00:34,  5.70s/it]/home/ogre/miniconda3/envs/py39/lib/python3.9/site-packages/skopt/optimizer/optimizer.py:449: UserWarning: The objective has been evaluated at this point before.\n",
      "  warnings.warn(\"The objective has been evaluated \"\n",
      " 95%|█████████▌| 95/100 [04:36<00:31,  6.21s/it]/home/ogre/miniconda3/envs/py39/lib/python3.9/site-packages/skopt/optimizer/optimizer.py:449: UserWarning: The objective has been evaluated at this point before.\n",
      "  warnings.warn(\"The objective has been evaluated \"\n",
      " 96%|█████████▌| 96/100 [04:43<00:25,  6.32s/it]/home/ogre/miniconda3/envs/py39/lib/python3.9/site-packages/skopt/optimizer/optimizer.py:449: UserWarning: The objective has been evaluated at this point before.\n",
      "  warnings.warn(\"The objective has been evaluated \"\n",
      " 97%|█████████▋| 97/100 [04:49<00:18,  6.29s/it]/home/ogre/miniconda3/envs/py39/lib/python3.9/site-packages/skopt/optimizer/optimizer.py:449: UserWarning: The objective has been evaluated at this point before.\n",
      "  warnings.warn(\"The objective has been evaluated \"\n",
      " 98%|█████████▊| 98/100 [04:55<00:12,  6.18s/it]/home/ogre/miniconda3/envs/py39/lib/python3.9/site-packages/skopt/optimizer/optimizer.py:449: UserWarning: The objective has been evaluated at this point before.\n",
      "  warnings.warn(\"The objective has been evaluated \"\n",
      " 99%|█████████▉| 99/100 [05:01<00:06,  6.02s/it]/home/ogre/miniconda3/envs/py39/lib/python3.9/site-packages/skopt/optimizer/optimizer.py:449: UserWarning: The objective has been evaluated at this point before.\n",
      "  warnings.warn(\"The objective has been evaluated \"\n",
      "100%|██████████| 100/100 [05:07<00:00,  3.07s/it]\n"
     ]
    }
   ],
   "source": [
    "from tqdm import tqdm\n",
    "# Fit the model with tqdm for progress tracking\n",
    "with tqdm(total=optimal_tree.total_iterations) as pbar:\n",
    "    def update_pbar(_):\n",
    "        pbar.update(1)\n",
    "\n",
    "    optimal_tree.fit(\n",
    "    X_train,\n",
    "    y_train,\n",
    "    callback=update_pbar)"
   ]
  },
  {
   "cell_type": "code",
   "execution_count": 18,
   "metadata": {},
   "outputs": [
    {
     "name": "stdout",
     "output_type": "stream",
     "text": [
      "Best Hyperparameters: OrderedDict([('ccp_alpha', 100)])\n",
      "----------------------\n",
      "The MSE in training is: 3050.2975824148516\n",
      "The MSE in testing is 3346.1976076617243\n"
     ]
    }
   ],
   "source": [
    "# Print the best hyperparameters and corresponding MSE on the testing set\n",
    "print(\"Best Hyperparameters:\", optimal_tree.best_params_)\n",
    "print('----------------------')\n",
    "y_pred = optimal_tree.predict(X_test)\n",
    "\n",
    "mse_test = mean_squared_error(y_test, y_pred)\n",
    "mse_train = mean_squared_error(y_train, optimal_tree.predict(X_train))\n",
    "\n",
    "print(f'The MSE in training is: {mse_train}')\n",
    "print(f'The MSE in testing is {mse_test}')"
   ]
  },
  {
   "attachments": {},
   "cell_type": "markdown",
   "metadata": {},
   "source": [
    "MSE has increased for both: training and testing set. Hence in this case, we seee that cost_complexity pruning works better, which seems intuitive because in Hyperparameter optimization we just wade through the permutations of parameters. In cost complexity pruning, we are pruning the tree suitably using a proper measure 'SSR'"
   ]
  }
 ],
 "metadata": {
  "kernelspec": {
   "display_name": "py39",
   "language": "python",
   "name": "python3"
  },
  "language_info": {
   "codemirror_mode": {
    "name": "ipython",
    "version": 3
   },
   "file_extension": ".py",
   "mimetype": "text/x-python",
   "name": "python",
   "nbconvert_exporter": "python",
   "pygments_lexer": "ipython3",
   "version": "3.9.16"
  },
  "orig_nbformat": 4
 },
 "nbformat": 4,
 "nbformat_minor": 2
}
